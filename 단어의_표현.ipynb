{
  "nbformat": 4,
  "nbformat_minor": 0,
  "metadata": {
    "colab": {
      "name": "단어의 표현.ipynb",
      "version": "0.3.2",
      "provenance": [],
      "collapsed_sections": [],
      "include_colab_link": true
    },
    "kernelspec": {
      "name": "python3",
      "display_name": "Python 3"
    }
  },
  "cells": [
    {
      "cell_type": "markdown",
      "metadata": {
        "id": "view-in-github",
        "colab_type": "text"
      },
      "source": [
        "<a href=\"https://colab.research.google.com/github/Dev-YJ/test/blob/master/%EB%8B%A8%EC%96%B4%EC%9D%98_%ED%91%9C%ED%98%84.ipynb\" target=\"_parent\"><img src=\"https://colab.research.google.com/assets/colab-badge.svg\" alt=\"Open In Colab\"/></a>"
      ]
    },
    {
      "cell_type": "code",
      "metadata": {
        "id": "xlDZRUBQEf0E",
        "colab_type": "code",
        "colab": {}
      },
      "source": [
        "#인코딩 대상 단어들을 담은 리스트\n",
        "word_ls = ['원숭이', '바나나', '사과']"
      ],
      "execution_count": 0,
      "outputs": []
    },
    {
      "cell_type": "code",
      "metadata": {
        "id": "mlFC6SpmEiwq",
        "colab_type": "code",
        "colab": {}
      },
      "source": [
        "from collections import defaultdict\n",
        "import numpy as np\n",
        "\n",
        "def one_hot_encode(word_ls):\n",
        "  #고유 단어와 인덱스를 매칭시켜주는 사전 생성\n",
        "  word2idx_dic = defaultdict(lambda:len(word2idx_dic))\n",
        "  \n",
        "  # {단어 : 인덱스} 사전 구축\n",
        "  for word in word_ls:\n",
        "    word2idx_dic[word]\n",
        "    \n",
        "  n_unique_words = len(word2idx_dic) #고유한 단어의 갯수\n",
        "  one_hot_vectors = np.zeros((len(word_ls), n_unique_words))\n",
        "    \n",
        "  for i, word in enumerate(word_ls):\n",
        "    index = word2idx_dic[word] # 해당 단어의 고유 인덱스\n",
        "    one_hot_vectors[i, index] += 1 # 해당 단어의 고유 인덱스에만 1을 \n",
        "      \n",
        "      \n",
        "  return one_hot_vectors"
      ],
      "execution_count": 0,
      "outputs": []
    },
    {
      "cell_type": "code",
      "metadata": {
        "id": "FVGzrYccEiyx",
        "colab_type": "code",
        "outputId": "e68295f4-fe45-41d2-d21b-624c876a4fcb",
        "colab": {
          "base_uri": "https://localhost:8080/",
          "height": 70
        }
      },
      "source": [
        "one_hot_vectors = one_hot_encode(word_ls)\n",
        "one_hot_vectors"
      ],
      "execution_count": 0,
      "outputs": [
        {
          "output_type": "execute_result",
          "data": {
            "text/plain": [
              "array([[1., 0., 0.],\n",
              "       [0., 1., 0.],\n",
              "       [0., 0., 1.]])"
            ]
          },
          "metadata": {
            "tags": []
          },
          "execution_count": 3
        }
      ]
    },
    {
      "cell_type": "code",
      "metadata": {
        "id": "WI2CoaSBEi1B",
        "colab_type": "code",
        "outputId": "58af69fd-0e7c-4337-a303-276c76387391",
        "colab": {
          "base_uri": "https://localhost:8080/",
          "height": 213
        }
      },
      "source": [
        "# sklearn을 활용한 one-hot encoding\n",
        "from numpy import array\n",
        "from numpy import argmax\n",
        "from sklearn.preprocessing import LabelEncoder\n",
        "from sklearn.preprocessing import OneHotEncoder\n",
        "\n",
        "# 예제 데이터 배열\n",
        "values = array(word_ls)\n",
        "print(values)\n",
        "\n",
        "# 문자열에 숫자를 붙임\n",
        "label_enc = LabelEncoder()\n",
        "int_enc = label_enc.fit_transform(values)\n",
        "print(int_enc)\n",
        "\n",
        "# binary encode\n",
        "onehot_enc = OneHotEncoder(sparse=False) # sparse는 표기법. true로 하면 출력 형태가 달라짐\n",
        "int_enc = int_enc.reshape(len(int_enc), 1) # n:1 matrix로 변환\n",
        "onehot_enc = onehot_enc.fit_transform(int_enc)\n",
        "print(onehot_enc)\n",
        "\n",
        "# one-ot encoding의 첫번째 배열의 값을 역으로 산출\n",
        "inverted = label_enc.inverse_transform([argmax(onehot_enc[0, :])])\n",
        "print(inverted)"
      ],
      "execution_count": 0,
      "outputs": [
        {
          "output_type": "stream",
          "text": [
            "['원숭이' '바나나' '사과']\n",
            "[2 0 1]\n",
            "[[0. 0. 1.]\n",
            " [1. 0. 0.]\n",
            " [0. 1. 0.]]\n",
            "['원숭이']\n"
          ],
          "name": "stdout"
        },
        {
          "output_type": "stream",
          "text": [
            "/usr/local/lib/python3.6/dist-packages/sklearn/preprocessing/_encoders.py:371: FutureWarning: The handling of integer data will change in version 0.22. Currently, the categories are determined based on the range [0, max(values)], while in the future they will be determined based on the unique values.\n",
            "If you want the future behaviour and silence this warning, you can specify \"categories='auto'\".\n",
            "In case you used a LabelEncoder before this OneHotEncoder to convert the categories to integers, then you can now use the OneHotEncoder directly.\n",
            "  warnings.warn(msg, FutureWarning)\n"
          ],
          "name": "stderr"
        }
      ]
    },
    {
      "cell_type": "code",
      "metadata": {
        "id": "VmBLHHmyE0dz",
        "colab_type": "code",
        "colab": {}
      },
      "source": [
        "#밀집벡터\n",
        "word_embedding_dic ={\n",
        "    '사과' : [1.0,0.5],\n",
        "    '바나나' :[0.9,1.2],\n",
        "    '원숭이' : [0.5,1.5]\n",
        "}"
      ],
      "execution_count": 0,
      "outputs": []
    },
    {
      "cell_type": "code",
      "metadata": {
        "id": "W0RCGLdFEi3i",
        "colab_type": "code",
        "outputId": "af5c7f46-9f65-4fef-c8e7-32fa30a81c6a",
        "colab": {
          "base_uri": "https://localhost:8080/",
          "height": 34
        }
      },
      "source": [
        "import numpy as np\n",
        "def euclidean_dist(x,y):\n",
        "  x = np.array(x)\n",
        "  y = np.array(y)\n",
        "  return np.sqrt(np.sum(x-y)**2)\n",
        "\n",
        "#사과와 바나나의 코사인 유사도\n",
        "euclidean_dist(word_embedding_dic['사과'], word_embedding_dic['바나나'])"
      ],
      "execution_count": 0,
      "outputs": [
        {
          "output_type": "execute_result",
          "data": {
            "text/plain": [
              "0.6"
            ]
          },
          "metadata": {
            "tags": []
          },
          "execution_count": 7
        }
      ]
    },
    {
      "cell_type": "code",
      "metadata": {
        "id": "8xpiXLFOE0ga",
        "colab_type": "code",
        "outputId": "0f46c93b-a7a4-4a42-96cf-f29ec65bc721",
        "colab": {
          "base_uri": "https://localhost:8080/",
          "height": 70
        }
      },
      "source": [
        "s1 = '대부분 원숭이는 바나나를 좋아합니다.'\n",
        "s2 = '코주부 원숭이는 바나나를 싫어합니다.'\n",
        "\n",
        "#토큰화를 수행합니다.\n",
        "token_s1 = s1.split()\n",
        "token_s2 = s2.split()\n",
        "\n",
        "union = set(token_s1).union(set(token_s2))\n",
        "print(union)\n",
        "\n",
        "intersection = set(token_s1).intersection(set(token_s2))\n",
        "print(intersection)\n",
        "\n",
        "print(len(intersection)/len(union)) #2를 6으로 나눔"
      ],
      "execution_count": 0,
      "outputs": [
        {
          "output_type": "stream",
          "text": [
            "{'코주부', '대부분', '싫어합니다.', '원숭이는', '바나나를', '좋아합니다.'}\n",
            "{'원숭이는', '바나나를'}\n",
            "0.3333333333333333\n"
          ],
          "name": "stdout"
        }
      ]
    },
    {
      "cell_type": "code",
      "metadata": {
        "id": "czYipghBQDK5",
        "colab_type": "code",
        "outputId": "5200b0b7-70c1-45d1-efd3-f4358367ff75",
        "colab": {
          "base_uri": "https://localhost:8080/",
          "height": 34
        }
      },
      "source": [
        "intersection = set(token_s1).intersection(set(token_s2))\n",
        "print(intersection)"
      ],
      "execution_count": 0,
      "outputs": [
        {
          "output_type": "stream",
          "text": [
            "{'원숭이는', '바나나를'}\n"
          ],
          "name": "stdout"
        }
      ]
    },
    {
      "cell_type": "code",
      "metadata": {
        "id": "-J-mRx1EQBR5",
        "colab_type": "code",
        "outputId": "078ab141-f21b-48f6-e100-4edf05f4ad4b",
        "colab": {
          "base_uri": "https://localhost:8080/",
          "height": 34
        }
      },
      "source": [
        "print(len(intersection)/len(union)) #2를 6으로 나눔"
      ],
      "execution_count": 0,
      "outputs": [
        {
          "output_type": "stream",
          "text": [
            "0.3333333333333333\n"
          ],
          "name": "stdout"
        }
      ]
    },
    {
      "cell_type": "code",
      "metadata": {
        "id": "BWhH9juaE0mi",
        "colab_type": "code",
        "colab": {}
      },
      "source": [
        "def cosine_similarity(x,y):\n",
        "  #x와 y, 두 벡터의 코사인 유사도를 계산하는 함수\n",
        "  nominator = np.dot(x,y) #분자\n",
        "  denomninator = np.linalg.norm(x)*np.linalg.norm(y) #분모\n",
        "  return nominator/denomninator\n",
        "    "
      ],
      "execution_count": 0,
      "outputs": []
    },
    {
      "cell_type": "code",
      "metadata": {
        "id": "xoxsjoOnOhvi",
        "colab_type": "code",
        "outputId": "6c815e3a-aa69-49b4-c5cd-0aa3f8a7ed9f",
        "colab": {
          "base_uri": "https://localhost:8080/",
          "height": 52
        }
      },
      "source": [
        "#사과와 바나나의 코사인 유사도\n",
        "print(cosine_similarity(word_embedding_dic['사과'], word_embedding_dic['바나나']))\n",
        "print(euclidean_dist(word_embedding_dic['사과'], word_embedding_dic['바나나']))\n"
      ],
      "execution_count": 0,
      "outputs": [
        {
          "output_type": "stream",
          "text": [
            "0.8944271909999159\n",
            "0.6\n"
          ],
          "name": "stdout"
        }
      ]
    },
    {
      "cell_type": "code",
      "metadata": {
        "id": "ZHoJxC_cOhyB",
        "colab_type": "code",
        "colab": {}
      },
      "source": [
        "#바나나와 원숭이의 코사인 유사도\n",
        "print(cosine_similarity(word_embedding_dic['바나나'], word_embedding_dic['원숭이']))\n",
        "print(euclidean_dist(word_embedding_dic['바나나'], word_embedding_dic['원숭이']))\n"
      ],
      "execution_count": 0,
      "outputs": []
    },
    {
      "cell_type": "code",
      "metadata": {
        "id": "BwLe0tnWOh0p",
        "colab_type": "code",
        "outputId": "e3e6c7f0-b989-48b7-a3f5-9be2cee65765",
        "colab": {
          "base_uri": "https://localhost:8080/",
          "height": 52
        }
      },
      "source": [
        "# 구글 드라이브에서 csv 파일을 읽어오기 위해 gauth 인증을 합니다.\n",
        "!pip install -U -q PyDrive\n",
        "from pydrive.auth import GoogleAuth\n",
        "from pydrive.drive import GoogleDrive\n",
        "from google.colab import auth\n",
        "from oauth2client.client import GoogleCredentials\n",
        "# Authenticate and create the PyDrive client.\n",
        "auth.authenticate_user()\n",
        "gauth = GoogleAuth()\n",
        "gauth.credentials = GoogleCredentials.get_application_default()\n",
        "drive = GoogleDrive(gauth)"
      ],
      "execution_count": 0,
      "outputs": [
        {
          "output_type": "stream",
          "text": [
            "\u001b[K     |████████████████████████████████| 993kB 355kB/s \n",
            "\u001b[?25h  Building wheel for PyDrive (setup.py) ... \u001b[?25l\u001b[?25hdone\n"
          ],
          "name": "stdout"
        }
      ]
    },
    {
      "cell_type": "code",
      "metadata": {
        "id": "N_9B2IbOQXHZ",
        "colab_type": "code",
        "outputId": "c321c66f-01ad-4b24-a839-210639306203",
        "colab": {
          "base_uri": "https://localhost:8080/",
          "height": 52
        }
      },
      "source": [
        "url_it ='https://drive.google.com/open?id=10EwI9yEZIIYDu2eDUiNIb1l5v8CfXb0_'\n",
        "id_it = url_it.split('=')[1]\n",
        "print(id_it)\n",
        "\n",
        "url_culture ='https://drive.google.com/open?id=1dIqTcT4RP5LrY0M27PrMruNygBhlO_t9'\n",
        "id_culture = url_culture.split('=')[1]\n",
        "print(id_culture)"
      ],
      "execution_count": 0,
      "outputs": [
        {
          "output_type": "stream",
          "text": [
            "10EwI9yEZIIYDu2eDUiNIb1l5v8CfXb0_\n",
            "1dIqTcT4RP5LrY0M27PrMruNygBhlO_t9\n"
          ],
          "name": "stdout"
        }
      ]
    },
    {
      "cell_type": "code",
      "metadata": {
        "id": "r36y3LiaQXJ5",
        "colab_type": "code",
        "outputId": "5284f695-3434-47be-c7a7-63657fc33803",
        "colab": {
          "base_uri": "https://localhost:8080/",
          "height": 34
        }
      },
      "source": [
        "%ls"
      ],
      "execution_count": 0,
      "outputs": [
        {
          "output_type": "stream",
          "text": [
            "adc.json  \u001b[0m\u001b[01;34msample_data\u001b[0m/\n"
          ],
          "name": "stdout"
        }
      ]
    },
    {
      "cell_type": "code",
      "metadata": {
        "id": "lLGBtIA6QXMC",
        "colab_type": "code",
        "colab": {}
      },
      "source": [
        "# it관련 기사를 판다스를 통해 읽어온다.\n",
        "downloaded = drive.CreateFile({'id':id_it}) \n",
        "downloaded.GetContentFile('2_word_embedding_it.csv')  \n",
        "\n",
        "# 문화관련 기사를 판다스를 통해 읽어온다.\n",
        "downloaded = drive.CreateFile({'id':id_culture}) \n",
        "downloaded.GetContentFile('2_word_embedding_culture.csv')  "
      ],
      "execution_count": 0,
      "outputs": []
    },
    {
      "cell_type": "code",
      "metadata": {
        "id": "zJ2U2bVdc_ei",
        "colab_type": "code",
        "outputId": "63ed818b-d6c8-4e53-8435-32d30d3da1c3",
        "colab": {
          "base_uri": "https://localhost:8080/",
          "height": 34
        }
      },
      "source": [
        "%ls"
      ],
      "execution_count": 0,
      "outputs": [
        {
          "output_type": "stream",
          "text": [
            "2_word_embedding_culture.csv  2_word_embedding_it.csv  adc.json  \u001b[0m\u001b[01;34msample_data\u001b[0m/\n"
          ],
          "name": "stdout"
        }
      ]
    },
    {
      "cell_type": "code",
      "metadata": {
        "id": "-TZr6heUc_gw",
        "colab_type": "code",
        "colab": {}
      },
      "source": [
        "import pandas as pd\n",
        "it_df = pd.read_csv('2_word_embedding_it.csv').dropna() # 디폴트로 NaN이 1개라도 포함되면 해당 행이 삭제\n",
        "culture_df = pd.read_csv('2_word_embedding_culture.csv').dropna()"
      ],
      "execution_count": 0,
      "outputs": []
    },
    {
      "cell_type": "code",
      "metadata": {
        "id": "sePVt2ccc_jH",
        "colab_type": "code",
        "colab": {}
      },
      "source": [
        "#1헤더에 있는 값(기사, 토큰값)을 가져온다.\n",
        "\n",
        "it_token_ls = list(it_df.loc[:,'1'])\n",
        "culture_token_ls = list(culture_df.loc[:,'1'])\n",
        "total_token_ls = it_token_ls + culture_token_ls\n"
      ],
      "execution_count": 0,
      "outputs": []
    },
    {
      "cell_type": "code",
      "metadata": {
        "id": "DyhF__ILc_lg",
        "colab_type": "code",
        "outputId": "09dc4b4d-814b-46e0-b12f-f2763a5dcdc4",
        "colab": {
          "base_uri": "https://localhost:8080/",
          "height": 54
        }
      },
      "source": [
        "#토큰들이 ','로 분리되어 있는 상태\n",
        "\n",
        "total_token_ls[0]"
      ],
      "execution_count": 0,
      "outputs": [
        {
          "output_type": "execute_result",
          "data": {
            "text/plain": [
              "'배,정회,신임,과학기술,일자리,진흥,원장,아시아,경제,이민,우,배,정회,전,국립,중앙,과학,관,전시,연구,단장,과학기술,일자리,진흥,제,원장,취임,과학기술,정보,통신,같은,인사,발표,임기,날,동안,배,신임,원장,행정,고등고시,공직,입문,교육,과학기술,부,융합,기술,과장,중앙대,경영,경제,초빙교수,과기,정통부,연구,성과,활용,정책,과장,연구,성과,혁신,기획,과장,과학기술,정책,수립,정부,연구개발,연구,기술,이전,사업,두루,경험,보유,평가,배,신임,원장,날,환담,회,새로운,임무,조직,신속히,성하고,직원,역량,강화하겠다,며,실험실,유망,기술,전,문,기업,연결하며,기술,이전,효과,지원,신,기술,창업,통한,미래,일자리,많이,창,고,이민,우,네이버,홈,아시아,경제,뉴스,확인,재미,신기,과학,꿀,잼,인,기,만화,경제,눈,세계,창,아시아,경제,전,재'"
            ]
          },
          "metadata": {
            "tags": []
          },
          "execution_count": 24
        }
      ]
    },
    {
      "cell_type": "code",
      "metadata": {
        "id": "R7g7-_GHdGh4",
        "colab_type": "code",
        "colab": {}
      },
      "source": [
        "#토큰들을 ','로 분리\n",
        "\n",
        "total_token_ls = [tokens.split(',') for tokens in total_token_ls]"
      ],
      "execution_count": 0,
      "outputs": []
    },
    {
      "cell_type": "code",
      "metadata": {
        "id": "wqNcbhz2dGoH",
        "colab_type": "code",
        "outputId": "96708ec6-3874-466a-f492-8105885ce15b",
        "colab": {
          "base_uri": "https://localhost:8080/",
          "height": 34
        }
      },
      "source": [
        "total_token_ls[0][:10]"
      ],
      "execution_count": 0,
      "outputs": [
        {
          "output_type": "execute_result",
          "data": {
            "text/plain": [
              "['배', '정회', '신임', '과학기술', '일자리', '진흥', '원장', '아시아', '경제', '이민']"
            ]
          },
          "metadata": {
            "tags": []
          },
          "execution_count": 26
        }
      ]
    },
    {
      "cell_type": "code",
      "metadata": {
        "id": "2czU3jlFEi5p",
        "colab_type": "code",
        "outputId": "a7bf71d2-45aa-4c38-ce46-9dacf9ed4eb8",
        "colab": {
          "base_uri": "https://localhost:8080/",
          "height": 386
        }
      },
      "source": [
        "!pip install paramiko\n",
        "from gensim.models import Word2Vec"
      ],
      "execution_count": 0,
      "outputs": [
        {
          "output_type": "stream",
          "text": [
            "Collecting paramiko\n",
            "\u001b[?25l  Downloading https://files.pythonhosted.org/packages/cf/ae/94e70d49044ccc234bfdba20114fa947d7ba6eb68a2e452d89b920e62227/paramiko-2.4.2-py2.py3-none-any.whl (193kB)\n",
            "\u001b[K     |████████████████████████████████| 194kB 4.9MB/s \n",
            "\u001b[?25hCollecting bcrypt>=3.1.3 (from paramiko)\n",
            "\u001b[?25l  Downloading https://files.pythonhosted.org/packages/d0/79/79a4d167a31cc206117d9b396926615fa9c1fdbd52017bcced80937ac501/bcrypt-3.1.6-cp34-abi3-manylinux1_x86_64.whl (55kB)\n",
            "\u001b[K     |████████████████████████████████| 61kB 21.4MB/s \n",
            "\u001b[?25hCollecting cryptography>=1.5 (from paramiko)\n",
            "\u001b[?25l  Downloading https://files.pythonhosted.org/packages/5b/12/b0409a94dad366d98a8eee2a77678c7a73aafd8c0e4b835abea634ea3896/cryptography-2.6.1-cp34-abi3-manylinux1_x86_64.whl (2.3MB)\n",
            "\u001b[K     |████████████████████████████████| 2.3MB 41.8MB/s \n",
            "\u001b[?25hCollecting pynacl>=1.0.1 (from paramiko)\n",
            "\u001b[?25l  Downloading https://files.pythonhosted.org/packages/27/15/2cd0a203f318c2240b42cd9dd13c931ddd61067809fee3479f44f086103e/PyNaCl-1.3.0-cp34-abi3-manylinux1_x86_64.whl (759kB)\n",
            "\u001b[K     |████████████████████████████████| 768kB 40.3MB/s \n",
            "\u001b[?25hRequirement already satisfied: pyasn1>=0.1.7 in /usr/local/lib/python3.6/dist-packages (from paramiko) (0.4.5)\n",
            "Requirement already satisfied: cffi>=1.1 in /usr/local/lib/python3.6/dist-packages (from bcrypt>=3.1.3->paramiko) (1.12.3)\n",
            "Requirement already satisfied: six>=1.4.1 in /usr/local/lib/python3.6/dist-packages (from bcrypt>=3.1.3->paramiko) (1.12.0)\n",
            "Collecting asn1crypto>=0.21.0 (from cryptography>=1.5->paramiko)\n",
            "\u001b[?25l  Downloading https://files.pythonhosted.org/packages/ea/cd/35485615f45f30a510576f1a56d1e0a7ad7bd8ab5ed7cdc600ef7cd06222/asn1crypto-0.24.0-py2.py3-none-any.whl (101kB)\n",
            "\u001b[K     |████████████████████████████████| 102kB 28.6MB/s \n",
            "\u001b[?25hRequirement already satisfied: pycparser in /usr/local/lib/python3.6/dist-packages (from cffi>=1.1->bcrypt>=3.1.3->paramiko) (2.19)\n",
            "Installing collected packages: bcrypt, asn1crypto, cryptography, pynacl, paramiko\n",
            "Successfully installed asn1crypto-0.24.0 bcrypt-3.1.6 cryptography-2.6.1 paramiko-2.4.2 pynacl-1.3.0\n"
          ],
          "name": "stdout"
        }
      ]
    },
    {
      "cell_type": "code",
      "metadata": {
        "id": "VPlIgIs54Jur",
        "colab_type": "code",
        "colab": {}
      },
      "source": [
        "#띄어쓰기 단위로 토큰화"
      ],
      "execution_count": 0,
      "outputs": []
    },
    {
      "cell_type": "code",
      "metadata": {
        "id": "XhCWEdmDInGC",
        "colab_type": "code",
        "colab": {}
      },
      "source": [
        "sentence_ls = [\n",
        "    '오늘 동물원에서 코끼리를 봤어',\n",
        "    '오늘 동물원에서 원숭이에게 사과를 줬어'\n",
        "]"
      ],
      "execution_count": 0,
      "outputs": []
    },
    {
      "cell_type": "code",
      "metadata": {
        "id": "NFPqflyRHpHh",
        "colab_type": "code",
        "colab": {}
      },
      "source": [
        "sentence_ls = [sentence.split() for sentence in sentence_ls]"
      ],
      "execution_count": 0,
      "outputs": []
    },
    {
      "cell_type": "code",
      "metadata": {
        "id": "pYzPx9ZQHpLQ",
        "colab_type": "code",
        "outputId": "54fba3cd-dbec-4bb7-f7e5-3da8768da4fe",
        "colab": {
          "base_uri": "https://localhost:8080/",
          "height": 34
        }
      },
      "source": [
        "sentence_ls"
      ],
      "execution_count": 0,
      "outputs": [
        {
          "output_type": "execute_result",
          "data": {
            "text/plain": [
              "[['오늘', '동물원에서', '코끼리를', '봤어'], ['오늘', '동물원에서', '원숭이에게', '사과를', '줬어']]"
            ]
          },
          "metadata": {
            "tags": []
          },
          "execution_count": 39
        }
      ]
    },
    {
      "cell_type": "code",
      "metadata": {
        "id": "CVvHT_czHpDl",
        "colab_type": "code",
        "colab": {}
      },
      "source": [
        "from collections import defaultdict\n",
        "\n",
        "token_dict = defaultdict(lambda : len(token_dict))\n",
        "\n",
        "for sentence in sentence_ls:\n",
        "  for token in sentence:\n",
        "    token_dict[token]"
      ],
      "execution_count": 0,
      "outputs": []
    },
    {
      "cell_type": "code",
      "metadata": {
        "id": "ttehiyemJ749",
        "colab_type": "code",
        "outputId": "1e5da354-ba0f-4ad8-808f-c78b1a579323",
        "colab": {
          "base_uri": "https://localhost:8080/",
          "height": 158
        }
      },
      "source": [
        "token_dict"
      ],
      "execution_count": 0,
      "outputs": [
        {
          "output_type": "execute_result",
          "data": {
            "text/plain": [
              "defaultdict(<function __main__.<lambda>>,\n",
              "            {'동물원에서': 1,\n",
              "             '봤어': 3,\n",
              "             '사과를': 5,\n",
              "             '오늘': 0,\n",
              "             '원숭이에게': 4,\n",
              "             '줬어': 6,\n",
              "             '코끼리를': 2})"
            ]
          },
          "metadata": {
            "tags": []
          },
          "execution_count": 42
        }
      ]
    },
    {
      "cell_type": "code",
      "metadata": {
        "id": "DHrLH6wNK0dD",
        "colab_type": "code",
        "outputId": "13d48fa1-6c00-477a-e3c2-e93ed7fdfd72",
        "colab": {
          "base_uri": "https://localhost:8080/",
          "height": 140
        }
      },
      "source": [
        "index_token_ls = sorted((value, key) for key, value in token_dict.items())\n",
        "index_token_ls"
      ],
      "execution_count": 0,
      "outputs": [
        {
          "output_type": "execute_result",
          "data": {
            "text/plain": [
              "[(0, '오늘'),\n",
              " (1, '동물원에서'),\n",
              " (2, '코끼리를'),\n",
              " (3, '봤어'),\n",
              " (4, '원숭이에게'),\n",
              " (5, '사과를'),\n",
              " (6, '줬어')]"
            ]
          },
          "metadata": {
            "tags": []
          },
          "execution_count": 43
        }
      ]
    },
    {
      "cell_type": "code",
      "metadata": {
        "id": "e3115x5YHpN1",
        "colab_type": "code",
        "outputId": "afe3af66-6837-4517-c033-b23d31e9fadf",
        "colab": {
          "base_uri": "https://localhost:8080/",
          "height": 34
        }
      },
      "source": [
        "token_in_order = [tup[1] for tup in index_token_ls]\n",
        "token_in_order"
      ],
      "execution_count": 0,
      "outputs": [
        {
          "output_type": "execute_result",
          "data": {
            "text/plain": [
              "['오늘', '동물원에서', '코끼리를', '봤어', '원숭이에게', '사과를', '줬어']"
            ]
          },
          "metadata": {
            "tags": []
          },
          "execution_count": 14
        }
      ]
    },
    {
      "cell_type": "code",
      "metadata": {
        "id": "nYqOp4KUHpQ1",
        "colab_type": "code",
        "colab": {}
      },
      "source": [
        "import pandas as pd\n",
        "import numpy as np\n",
        "\n",
        "n_words = len(token_dict) # 전체 고유 토큰의 수\n",
        "n_sentence = len(sentence_ls) # 전체 문장의 수\n",
        "\n",
        "BOW = pd.DataFrame(\n",
        "  np.zeros((n_sentence, n_words)),\n",
        "  columns = token_in_order,\n",
        "  index = ['문장1', '문장2'],\n",
        "  dtype = int,\n",
        ")"
      ],
      "execution_count": 0,
      "outputs": []
    },
    {
      "cell_type": "code",
      "metadata": {
        "id": "US5lYoh2Pf08",
        "colab_type": "code",
        "colab": {}
      },
      "source": [
        "for i, sentence in enumerate(sentence_ls):\n",
        "  for token in sentence:\n",
        "    \n",
        "    token_location = token_dict[token] # 해당 토큰의 위치(column)\n",
        "    BOW.iloc[i, token_location] += 1"
      ],
      "execution_count": 0,
      "outputs": []
    },
    {
      "cell_type": "code",
      "metadata": {
        "id": "BgLqwaVD4K33",
        "colab_type": "code",
        "outputId": "7439290a-595e-4a03-e603-a590a02296ab",
        "colab": {
          "base_uri": "https://localhost:8080/",
          "height": 106
        }
      },
      "source": [
        "BOW"
      ],
      "execution_count": 0,
      "outputs": [
        {
          "output_type": "execute_result",
          "data": {
            "text/html": [
              "<div>\n",
              "<style scoped>\n",
              "    .dataframe tbody tr th:only-of-type {\n",
              "        vertical-align: middle;\n",
              "    }\n",
              "\n",
              "    .dataframe tbody tr th {\n",
              "        vertical-align: top;\n",
              "    }\n",
              "\n",
              "    .dataframe thead th {\n",
              "        text-align: right;\n",
              "    }\n",
              "</style>\n",
              "<table border=\"1\" class=\"dataframe\">\n",
              "  <thead>\n",
              "    <tr style=\"text-align: right;\">\n",
              "      <th></th>\n",
              "      <th>오늘</th>\n",
              "      <th>동물원에서</th>\n",
              "      <th>코끼리를</th>\n",
              "      <th>봤어</th>\n",
              "      <th>원숭이에게</th>\n",
              "      <th>사과를</th>\n",
              "      <th>줬어</th>\n",
              "    </tr>\n",
              "  </thead>\n",
              "  <tbody>\n",
              "    <tr>\n",
              "      <th>문장1</th>\n",
              "      <td>2</td>\n",
              "      <td>2</td>\n",
              "      <td>2</td>\n",
              "      <td>2</td>\n",
              "      <td>0</td>\n",
              "      <td>0</td>\n",
              "      <td>0</td>\n",
              "    </tr>\n",
              "    <tr>\n",
              "      <th>문장2</th>\n",
              "      <td>2</td>\n",
              "      <td>2</td>\n",
              "      <td>0</td>\n",
              "      <td>0</td>\n",
              "      <td>2</td>\n",
              "      <td>2</td>\n",
              "      <td>2</td>\n",
              "    </tr>\n",
              "  </tbody>\n",
              "</table>\n",
              "</div>"
            ],
            "text/plain": [
              "     오늘  동물원에서  코끼리를  봤어  원숭이에게  사과를  줬어\n",
              "문장1   2      2     2   2      0    0   0\n",
              "문장2   2      2     0   0      2    2   2"
            ]
          },
          "metadata": {
            "tags": []
          },
          "execution_count": 47
        }
      ]
    },
    {
      "cell_type": "code",
      "metadata": {
        "id": "8DijMO0NL0h6",
        "colab_type": "code",
        "colab": {}
      },
      "source": [
        "sentence_ls2 = [\n",
        "    '나는 양념 치킨을 좋아해 하지만 후라이드 치킨을 싫어해',\n",
        "    '나는 후라이드 치킨을 좋아해 하지만 양념 치킨을 싫어해'\n",
        "]"
      ],
      "execution_count": 0,
      "outputs": []
    },
    {
      "cell_type": "code",
      "metadata": {
        "id": "a_PfTXdKL0kS",
        "colab_type": "code",
        "colab": {}
      },
      "source": [
        "sentence_ls2 = [sentence.split() for sentence in sentence_ls2]"
      ],
      "execution_count": 0,
      "outputs": []
    },
    {
      "cell_type": "code",
      "metadata": {
        "id": "BeZtQ8l5L0mx",
        "colab_type": "code",
        "outputId": "104f076f-5bbe-4828-d590-8481f8f5a0ea",
        "colab": {
          "base_uri": "https://localhost:8080/",
          "height": 52
        }
      },
      "source": [
        "sentence_ls2"
      ],
      "execution_count": 0,
      "outputs": [
        {
          "output_type": "execute_result",
          "data": {
            "text/plain": [
              "[['나는', '양념', '치킨을', '좋아해', '하지만', '후라이드', '치킨을', '싫어해'],\n",
              " ['나는', '후라이드', '치킨을', '좋아해', '하지만', '양념', '치킨을', '싫어해']]"
            ]
          },
          "metadata": {
            "tags": []
          },
          "execution_count": 50
        }
      ]
    },
    {
      "cell_type": "code",
      "metadata": {
        "id": "g4EjvSCZOArq",
        "colab_type": "code",
        "colab": {}
      },
      "source": [
        "from collections import defaultdict\n",
        "\n",
        "token_dict2 = defaultdict(lambda : len(token_dict2))\n",
        "\n",
        "for sentence in sentence_ls2:\n",
        "  for token in sentence:\n",
        "    token_dict2[token]"
      ],
      "execution_count": 0,
      "outputs": []
    },
    {
      "cell_type": "code",
      "metadata": {
        "id": "c9AVmcZuOAub",
        "colab_type": "code",
        "outputId": "be23f816-78e4-4ae5-a39c-5679d287570a",
        "colab": {
          "base_uri": "https://localhost:8080/",
          "height": 158
        }
      },
      "source": [
        "token_dict2\n"
      ],
      "execution_count": 0,
      "outputs": [
        {
          "output_type": "execute_result",
          "data": {
            "text/plain": [
              "defaultdict(<function __main__.<lambda>>,\n",
              "            {'나는': 0,\n",
              "             '싫어해': 6,\n",
              "             '양념': 1,\n",
              "             '좋아해': 3,\n",
              "             '치킨을': 2,\n",
              "             '하지만': 4,\n",
              "             '후라이드': 5})"
            ]
          },
          "metadata": {
            "tags": []
          },
          "execution_count": 52
        }
      ]
    },
    {
      "cell_type": "code",
      "metadata": {
        "id": "Ve9UTZa2OAwR",
        "colab_type": "code",
        "outputId": "c9e025a9-3881-4918-e81f-1bbf2d208a21",
        "colab": {
          "base_uri": "https://localhost:8080/",
          "height": 140
        }
      },
      "source": [
        "index_token_ls2 = sorted((value, key) for key, value in token_dict2.items())\n",
        "index_token_ls2"
      ],
      "execution_count": 0,
      "outputs": [
        {
          "output_type": "execute_result",
          "data": {
            "text/plain": [
              "[(0, '나는'),\n",
              " (1, '양념'),\n",
              " (2, '치킨을'),\n",
              " (3, '좋아해'),\n",
              " (4, '하지만'),\n",
              " (5, '후라이드'),\n",
              " (6, '싫어해')]"
            ]
          },
          "metadata": {
            "tags": []
          },
          "execution_count": 53
        }
      ]
    },
    {
      "cell_type": "code",
      "metadata": {
        "id": "zyNG-zDAOAym",
        "colab_type": "code",
        "outputId": "2f039bf3-329c-4f09-d6d7-e8d5f2aa4e64",
        "colab": {
          "base_uri": "https://localhost:8080/",
          "height": 34
        }
      },
      "source": [
        "token_in_order2 = [tup[1] for tup in index_token_ls2]\n",
        "token_in_order2"
      ],
      "execution_count": 0,
      "outputs": [
        {
          "output_type": "execute_result",
          "data": {
            "text/plain": [
              "['나는', '양념', '치킨을', '좋아해', '하지만', '후라이드', '싫어해']"
            ]
          },
          "metadata": {
            "tags": []
          },
          "execution_count": 54
        }
      ]
    },
    {
      "cell_type": "code",
      "metadata": {
        "id": "u2JAW9w6OA1D",
        "colab_type": "code",
        "colab": {}
      },
      "source": [
        "import pandas as pd\n",
        "import numpy as np\n",
        "\n",
        "n_words = len(token_dict2) # 전체 고유 토큰의 수\n",
        "n_sentence = len(sentence_ls2) # 전체 문장의 수\n",
        "\n",
        "BOW2 = pd.DataFrame(\n",
        "  np.zeros((n_sentence, n_words)),\n",
        "  columns = token_in_order2,\n",
        "  index = ['문장1', '문장2'],\n",
        "  dtype = int,\n",
        ")"
      ],
      "execution_count": 0,
      "outputs": []
    },
    {
      "cell_type": "code",
      "metadata": {
        "id": "jiUD1A0mOA6F",
        "colab_type": "code",
        "colab": {}
      },
      "source": [
        "for i, sentence in enumerate(sentence_ls2):\n",
        "  for token in sentence:\n",
        "    \n",
        "    token_location2 = token_dict2[token] # 해당 토큰의 위치(column)\n",
        "    BOW2.iloc[i, token_location2] += 1"
      ],
      "execution_count": 0,
      "outputs": []
    },
    {
      "cell_type": "code",
      "metadata": {
        "id": "8c90_VI9OA3m",
        "colab_type": "code",
        "outputId": "fd1ae135-ecaa-47fc-de3a-51e6dc35b6f6",
        "colab": {
          "base_uri": "https://localhost:8080/",
          "height": 106
        }
      },
      "source": [
        "BOW2"
      ],
      "execution_count": 0,
      "outputs": [
        {
          "output_type": "execute_result",
          "data": {
            "text/html": [
              "<div>\n",
              "<style scoped>\n",
              "    .dataframe tbody tr th:only-of-type {\n",
              "        vertical-align: middle;\n",
              "    }\n",
              "\n",
              "    .dataframe tbody tr th {\n",
              "        vertical-align: top;\n",
              "    }\n",
              "\n",
              "    .dataframe thead th {\n",
              "        text-align: right;\n",
              "    }\n",
              "</style>\n",
              "<table border=\"1\" class=\"dataframe\">\n",
              "  <thead>\n",
              "    <tr style=\"text-align: right;\">\n",
              "      <th></th>\n",
              "      <th>나는</th>\n",
              "      <th>양념</th>\n",
              "      <th>치킨을</th>\n",
              "      <th>좋아해</th>\n",
              "      <th>하지만</th>\n",
              "      <th>후라이드</th>\n",
              "      <th>싫어해</th>\n",
              "    </tr>\n",
              "  </thead>\n",
              "  <tbody>\n",
              "    <tr>\n",
              "      <th>문장1</th>\n",
              "      <td>1</td>\n",
              "      <td>1</td>\n",
              "      <td>2</td>\n",
              "      <td>1</td>\n",
              "      <td>1</td>\n",
              "      <td>1</td>\n",
              "      <td>1</td>\n",
              "    </tr>\n",
              "    <tr>\n",
              "      <th>문장2</th>\n",
              "      <td>1</td>\n",
              "      <td>1</td>\n",
              "      <td>2</td>\n",
              "      <td>1</td>\n",
              "      <td>1</td>\n",
              "      <td>1</td>\n",
              "      <td>1</td>\n",
              "    </tr>\n",
              "  </tbody>\n",
              "</table>\n",
              "</div>"
            ],
            "text/plain": [
              "     나는  양념  치킨을  좋아해  하지만  후라이드  싫어해\n",
              "문장1   1   1    2    1    1     1    1\n",
              "문장2   1   1    2    1    1     1    1"
            ]
          },
          "metadata": {
            "tags": []
          },
          "execution_count": 57
        }
      ]
    },
    {
      "cell_type": "markdown",
      "metadata": {
        "id": "KPZYMUr6a6bm",
        "colab_type": "text"
      },
      "source": [
        "5) TF-IDF 계산"
      ]
    },
    {
      "cell_type": "code",
      "metadata": {
        "id": "BMy4cyq3dB4M",
        "colab_type": "code",
        "colab": {}
      },
      "source": [
        "d1 = \"The cat sat on my face. I hate a cat.\"\n",
        "d2 = \"The dog sat on my bed. I love a dog.\""
      ],
      "execution_count": 0,
      "outputs": []
    },
    {
      "cell_type": "code",
      "metadata": {
        "id": "tTjEDRijdE_k",
        "colab_type": "code",
        "colab": {}
      },
      "source": [
        "bowA = d1.split()\n",
        "bowB = d2.split()\n"
      ],
      "execution_count": 0,
      "outputs": []
    },
    {
      "cell_type": "code",
      "metadata": {
        "id": "pi1S57DadE5t",
        "colab_type": "code",
        "colab": {}
      },
      "source": [
        "wordSet = set(bowA).union(set(bowB))"
      ],
      "execution_count": 0,
      "outputs": []
    },
    {
      "cell_type": "code",
      "metadata": {
        "id": "7ZGdfmYTdEzC",
        "colab_type": "code",
        "outputId": "0498b324-d361-47e1-cdea-57ed5e354054",
        "colab": {
          "base_uri": "https://localhost:8080/",
          "height": 263
        }
      },
      "source": [
        "wordSet"
      ],
      "execution_count": 0,
      "outputs": [
        {
          "output_type": "execute_result",
          "data": {
            "text/plain": [
              "{'I',\n",
              " 'The',\n",
              " 'a',\n",
              " 'bed.',\n",
              " 'cat',\n",
              " 'cat.',\n",
              " 'dog',\n",
              " 'dog.',\n",
              " 'face.',\n",
              " 'hate',\n",
              " 'love',\n",
              " 'my',\n",
              " 'on',\n",
              " 'sat'}"
            ]
          },
          "metadata": {
            "tags": []
          },
          "execution_count": 76
        }
      ]
    },
    {
      "cell_type": "code",
      "metadata": {
        "id": "089IMMeLdEux",
        "colab_type": "code",
        "colab": {}
      },
      "source": [
        "wordDictA = dict.fromkeys(wordSet,0)\n",
        "wordDictB = dict.fromkeys(wordSet,0)"
      ],
      "execution_count": 0,
      "outputs": []
    },
    {
      "cell_type": "code",
      "metadata": {
        "id": "LhZlohC_dCF6",
        "colab_type": "code",
        "outputId": "d891daee-cbf6-4a4e-e742-16dba445eb9e",
        "colab": {
          "base_uri": "https://localhost:8080/",
          "height": 263
        }
      },
      "source": [
        "wordDictA"
      ],
      "execution_count": 0,
      "outputs": [
        {
          "output_type": "execute_result",
          "data": {
            "text/plain": [
              "{'I': 0,\n",
              " 'The': 0,\n",
              " 'a': 0,\n",
              " 'bed.': 0,\n",
              " 'cat': 0,\n",
              " 'cat.': 0,\n",
              " 'dog': 0,\n",
              " 'dog.': 0,\n",
              " 'face.': 0,\n",
              " 'hate': 0,\n",
              " 'love': 0,\n",
              " 'my': 0,\n",
              " 'on': 0,\n",
              " 'sat': 0}"
            ]
          },
          "metadata": {
            "tags": []
          },
          "execution_count": 78
        }
      ]
    },
    {
      "cell_type": "code",
      "metadata": {
        "id": "nHuTKpKRdosh",
        "colab_type": "code",
        "colab": {}
      },
      "source": [
        "for word in bowA:\n",
        "    wordDictA[word]+=1\n",
        "for word in bowB:\n",
        "    wordDictB[word]+=1"
      ],
      "execution_count": 0,
      "outputs": []
    },
    {
      "cell_type": "code",
      "metadata": {
        "id": "qvdD4eo9eNmz",
        "colab_type": "code",
        "outputId": "1b051616-e1a8-4349-ec21-8531f4032b88",
        "colab": {
          "base_uri": "https://localhost:8080/",
          "height": 106
        }
      },
      "source": [
        "import pandas as pd\n",
        "pd.DataFrame([wordDictA,wordDictB])"
      ],
      "execution_count": 0,
      "outputs": [
        {
          "output_type": "execute_result",
          "data": {
            "text/html": [
              "<div>\n",
              "<style scoped>\n",
              "    .dataframe tbody tr th:only-of-type {\n",
              "        vertical-align: middle;\n",
              "    }\n",
              "\n",
              "    .dataframe tbody tr th {\n",
              "        vertical-align: top;\n",
              "    }\n",
              "\n",
              "    .dataframe thead th {\n",
              "        text-align: right;\n",
              "    }\n",
              "</style>\n",
              "<table border=\"1\" class=\"dataframe\">\n",
              "  <thead>\n",
              "    <tr style=\"text-align: right;\">\n",
              "      <th></th>\n",
              "      <th>I</th>\n",
              "      <th>The</th>\n",
              "      <th>a</th>\n",
              "      <th>bed.</th>\n",
              "      <th>cat</th>\n",
              "      <th>cat.</th>\n",
              "      <th>dog</th>\n",
              "      <th>dog.</th>\n",
              "      <th>face.</th>\n",
              "      <th>hate</th>\n",
              "      <th>love</th>\n",
              "      <th>my</th>\n",
              "      <th>on</th>\n",
              "      <th>sat</th>\n",
              "    </tr>\n",
              "  </thead>\n",
              "  <tbody>\n",
              "    <tr>\n",
              "      <th>0</th>\n",
              "      <td>1</td>\n",
              "      <td>1</td>\n",
              "      <td>1</td>\n",
              "      <td>0</td>\n",
              "      <td>1</td>\n",
              "      <td>1</td>\n",
              "      <td>0</td>\n",
              "      <td>0</td>\n",
              "      <td>1</td>\n",
              "      <td>1</td>\n",
              "      <td>0</td>\n",
              "      <td>1</td>\n",
              "      <td>1</td>\n",
              "      <td>1</td>\n",
              "    </tr>\n",
              "    <tr>\n",
              "      <th>1</th>\n",
              "      <td>1</td>\n",
              "      <td>1</td>\n",
              "      <td>1</td>\n",
              "      <td>1</td>\n",
              "      <td>0</td>\n",
              "      <td>0</td>\n",
              "      <td>1</td>\n",
              "      <td>1</td>\n",
              "      <td>0</td>\n",
              "      <td>0</td>\n",
              "      <td>1</td>\n",
              "      <td>1</td>\n",
              "      <td>1</td>\n",
              "      <td>1</td>\n",
              "    </tr>\n",
              "  </tbody>\n",
              "</table>\n",
              "</div>"
            ],
            "text/plain": [
              "   I  The  a  bed.  cat  cat.  dog  dog.  face.  hate  love  my  on  sat\n",
              "0  1    1  1     0    1     1    0     0      1     1     0   1   1    1\n",
              "1  1    1  1     1    0     0    1     1      0     0     1   1   1    1"
            ]
          },
          "metadata": {
            "tags": []
          },
          "execution_count": 80
        }
      ]
    },
    {
      "cell_type": "code",
      "metadata": {
        "id": "YDpMlcOXcUdR",
        "colab_type": "code",
        "colab": {}
      },
      "source": [
        "def computeTF(wordDict,bow):\n",
        "  tfDict={}\n",
        "  bowCount = len(bow)\n",
        "  for word,count in wordDict.items():\n",
        "    tfDict[word]=count/float(bowCount)\n",
        "  return tfDict"
      ],
      "execution_count": 0,
      "outputs": []
    },
    {
      "cell_type": "code",
      "metadata": {
        "id": "prJ_9eH4cp7K",
        "colab_type": "code",
        "colab": {}
      },
      "source": [
        "tfBowA=computeTF(wordDictA, bowA)\n",
        "tfBowB=computeTF(wordDictB, bowB)\n"
      ],
      "execution_count": 0,
      "outputs": []
    },
    {
      "cell_type": "code",
      "metadata": {
        "id": "kNM2T6dvcqDw",
        "colab_type": "code",
        "outputId": "1e434772-3c62-4fc9-cdff-8b9371bb465e",
        "colab": {
          "base_uri": "https://localhost:8080/",
          "height": 263
        }
      },
      "source": [
        "tfBowA"
      ],
      "execution_count": 0,
      "outputs": [
        {
          "output_type": "execute_result",
          "data": {
            "text/plain": [
              "{'I': 0.1,\n",
              " 'The': 0.1,\n",
              " 'a': 0.1,\n",
              " 'bed.': 0.0,\n",
              " 'cat': 0.1,\n",
              " 'cat.': 0.1,\n",
              " 'dog': 0.0,\n",
              " 'dog.': 0.0,\n",
              " 'face.': 0.1,\n",
              " 'hate': 0.1,\n",
              " 'love': 0.0,\n",
              " 'my': 0.1,\n",
              " 'on': 0.1,\n",
              " 'sat': 0.1}"
            ]
          },
          "metadata": {
            "tags": []
          },
          "execution_count": 84
        }
      ]
    },
    {
      "cell_type": "code",
      "metadata": {
        "id": "OzXS-8F8eanj",
        "colab_type": "code",
        "outputId": "c29bfe15-9be3-4d17-d9ef-ba39ad981d13",
        "colab": {
          "base_uri": "https://localhost:8080/",
          "height": 263
        }
      },
      "source": [
        "tfBowB"
      ],
      "execution_count": 0,
      "outputs": [
        {
          "output_type": "execute_result",
          "data": {
            "text/plain": [
              "{'I': 0.1,\n",
              " 'The': 0.1,\n",
              " 'a': 0.1,\n",
              " 'bed.': 0.1,\n",
              " 'cat': 0.0,\n",
              " 'cat.': 0.0,\n",
              " 'dog': 0.1,\n",
              " 'dog.': 0.1,\n",
              " 'face.': 0.0,\n",
              " 'hate': 0.0,\n",
              " 'love': 0.1,\n",
              " 'my': 0.1,\n",
              " 'on': 0.1,\n",
              " 'sat': 0.1}"
            ]
          },
          "metadata": {
            "tags": []
          },
          "execution_count": 85
        }
      ]
    },
    {
      "cell_type": "code",
      "metadata": {
        "id": "iqOUoXouem8r",
        "colab_type": "code",
        "colab": {}
      },
      "source": [
        "def computeIDF(docList):\n",
        "  import math\n",
        "  idfDict = {}\n",
        "  N = len(docList)\n",
        "  idfDict= dict.fromkeys(docList[0].keys(), 0)\n",
        "  for doc in docList:\n",
        "    for word, val in doc.items():\n",
        "      if val > 0:\n",
        "        idfDict[word] += 1\n",
        "        \n",
        "  for word, val in idfDict.items():\n",
        "    idfDict[word] = math.log10(N / float(val))\n",
        "    \n",
        "  return idfDict"
      ],
      "execution_count": 0,
      "outputs": []
    },
    {
      "cell_type": "code",
      "metadata": {
        "id": "vaj4B-R4fcgF",
        "colab_type": "code",
        "colab": {}
      },
      "source": [
        "idfs = computeIDF([wordDictA, wordDictB])"
      ],
      "execution_count": 0,
      "outputs": []
    },
    {
      "cell_type": "code",
      "metadata": {
        "id": "MQ2Qi2NBOA8N",
        "colab_type": "code",
        "colab": {}
      },
      "source": [
        "def computeTFIDF(tfBow,idfs):\n",
        "    tfidf = {}\n",
        "    for word,val in tfBow.items():\n",
        "        tfidf[word] = val*idfs[word]\n",
        "    return tfidf"
      ],
      "execution_count": 0,
      "outputs": []
    },
    {
      "cell_type": "code",
      "metadata": {
        "id": "WDEWs0paa0VD",
        "colab_type": "code",
        "colab": {}
      },
      "source": [
        "tfidfBowA = computeTFIDF(tfBowA, idfs)\n",
        "tfidfBowB = computeTFIDF(tfBowB, idfs)"
      ],
      "execution_count": 0,
      "outputs": []
    },
    {
      "cell_type": "code",
      "metadata": {
        "id": "KE3_sqSva0X3",
        "colab_type": "code",
        "outputId": "77beb406-7ea0-4879-bf04-454d7a2852cb",
        "colab": {
          "base_uri": "https://localhost:8080/",
          "height": 106
        }
      },
      "source": [
        "import pandas as pd\n",
        "pd.DataFrame([tfidfBowA,tfidfBowB])"
      ],
      "execution_count": 0,
      "outputs": [
        {
          "output_type": "execute_result",
          "data": {
            "text/html": [
              "<div>\n",
              "<style scoped>\n",
              "    .dataframe tbody tr th:only-of-type {\n",
              "        vertical-align: middle;\n",
              "    }\n",
              "\n",
              "    .dataframe tbody tr th {\n",
              "        vertical-align: top;\n",
              "    }\n",
              "\n",
              "    .dataframe thead th {\n",
              "        text-align: right;\n",
              "    }\n",
              "</style>\n",
              "<table border=\"1\" class=\"dataframe\">\n",
              "  <thead>\n",
              "    <tr style=\"text-align: right;\">\n",
              "      <th></th>\n",
              "      <th>I</th>\n",
              "      <th>The</th>\n",
              "      <th>a</th>\n",
              "      <th>bed.</th>\n",
              "      <th>cat</th>\n",
              "      <th>cat.</th>\n",
              "      <th>dog</th>\n",
              "      <th>dog.</th>\n",
              "      <th>face.</th>\n",
              "      <th>hate</th>\n",
              "      <th>love</th>\n",
              "      <th>my</th>\n",
              "      <th>on</th>\n",
              "      <th>sat</th>\n",
              "    </tr>\n",
              "  </thead>\n",
              "  <tbody>\n",
              "    <tr>\n",
              "      <th>0</th>\n",
              "      <td>0.0</td>\n",
              "      <td>0.0</td>\n",
              "      <td>0.0</td>\n",
              "      <td>0.000000</td>\n",
              "      <td>0.030103</td>\n",
              "      <td>0.030103</td>\n",
              "      <td>0.000000</td>\n",
              "      <td>0.000000</td>\n",
              "      <td>0.030103</td>\n",
              "      <td>0.030103</td>\n",
              "      <td>0.000000</td>\n",
              "      <td>0.0</td>\n",
              "      <td>0.0</td>\n",
              "      <td>0.0</td>\n",
              "    </tr>\n",
              "    <tr>\n",
              "      <th>1</th>\n",
              "      <td>0.0</td>\n",
              "      <td>0.0</td>\n",
              "      <td>0.0</td>\n",
              "      <td>0.030103</td>\n",
              "      <td>0.000000</td>\n",
              "      <td>0.000000</td>\n",
              "      <td>0.030103</td>\n",
              "      <td>0.030103</td>\n",
              "      <td>0.000000</td>\n",
              "      <td>0.000000</td>\n",
              "      <td>0.030103</td>\n",
              "      <td>0.0</td>\n",
              "      <td>0.0</td>\n",
              "      <td>0.0</td>\n",
              "    </tr>\n",
              "  </tbody>\n",
              "</table>\n",
              "</div>"
            ],
            "text/plain": [
              "     I  The    a      bed.       cat  ...      hate      love   my   on  sat\n",
              "0  0.0  0.0  0.0  0.000000  0.030103  ...  0.030103  0.000000  0.0  0.0  0.0\n",
              "1  0.0  0.0  0.0  0.030103  0.000000  ...  0.000000  0.030103  0.0  0.0  0.0\n",
              "\n",
              "[2 rows x 14 columns]"
            ]
          },
          "metadata": {
            "tags": []
          },
          "execution_count": 93
        }
      ]
    },
    {
      "cell_type": "code",
      "metadata": {
        "id": "Gj9Zg50Ta0ao",
        "colab_type": "code",
        "outputId": "5ac7714f-ead4-4389-95e6-068e8c230557",
        "colab": {
          "base_uri": "https://localhost:8080/",
          "height": 34
        }
      },
      "source": [
        "d1"
      ],
      "execution_count": 0,
      "outputs": [
        {
          "output_type": "execute_result",
          "data": {
            "text/plain": [
              "'The cat sat on my face. I hate a cat.'"
            ]
          },
          "metadata": {
            "tags": []
          },
          "execution_count": 95
        }
      ]
    },
    {
      "cell_type": "code",
      "metadata": {
        "id": "zQNDoyzaa0dS",
        "colab_type": "code",
        "outputId": "da4f24cf-391b-4f5d-c286-d41039dcaf59",
        "colab": {
          "base_uri": "https://localhost:8080/",
          "height": 34
        }
      },
      "source": [
        "d2"
      ],
      "execution_count": 0,
      "outputs": [
        {
          "output_type": "execute_result",
          "data": {
            "text/plain": [
              "'The dog sat on my bed. I love a dog.'"
            ]
          },
          "metadata": {
            "tags": []
          },
          "execution_count": 97
        }
      ]
    },
    {
      "cell_type": "code",
      "metadata": {
        "id": "jWbGt3Oua0f6",
        "colab_type": "code",
        "colab": {}
      },
      "source": [
        ""
      ],
      "execution_count": 0,
      "outputs": []
    },
    {
      "cell_type": "code",
      "metadata": {
        "id": "t2uRfrG6L0pW",
        "colab_type": "code",
        "colab": {}
      },
      "source": [
        ""
      ],
      "execution_count": 0,
      "outputs": []
    },
    {
      "cell_type": "code",
      "metadata": {
        "id": "_8YwQtjocTJF",
        "colab_type": "code",
        "colab": {}
      },
      "source": [
        ""
      ],
      "execution_count": 0,
      "outputs": []
    },
    {
      "cell_type": "code",
      "metadata": {
        "id": "YcmcErXyc_q3",
        "colab_type": "code",
        "colab": {}
      },
      "source": [
        ""
      ],
      "execution_count": 0,
      "outputs": []
    },
    {
      "cell_type": "code",
      "metadata": {
        "id": "B6dHfatEc_u5",
        "colab_type": "code",
        "colab": {}
      },
      "source": [
        ""
      ],
      "execution_count": 0,
      "outputs": []
    }
  ]
}